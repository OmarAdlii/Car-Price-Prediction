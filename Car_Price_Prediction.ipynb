{
 "cells": [
  {
   "cell_type": "code",
   "execution_count": null,
   "id": "de0ff0a7",
   "metadata": {},
   "outputs": [],
   "source": [
    "import pandas as pd\n",
    "import numpy as np\n",
    "import matplotlib.pyplot as plt \n",
    "import seaborn as sns\n",
    "import tensorflow as tf\n",
    "from tensorflow.keras.layers import Normalization, Dense, InputLayer\n",
    "from tensorflow.keras.losses import MeanSquaredError, MeanAbsoluteError,Huber\n",
    "from tensorflow.keras.metrics import RootMeanSquaredError\n",
    "from tensorflow.keras.optimizers import Adam"
   ]
  },
  {
   "cell_type": "code",
   "execution_count": null,
   "id": "41c71a00",
   "metadata": {
    "scrolled": true
   },
   "outputs": [],
   "source": [
    "data=pd.read_csv('train.csv')\n",
    "data.head()"
   ]
  },
  {
   "cell_type": "code",
   "execution_count": null,
   "id": "d8d11965",
   "metadata": {},
   "outputs": [],
   "source": [
    "data.shape"
   ]
  },
  {
   "cell_type": "code",
   "execution_count": null,
   "id": "9b18755e",
   "metadata": {},
   "outputs": [],
   "source": [
    "data.info()"
   ]
  },
  {
   "cell_type": "code",
   "execution_count": null,
   "id": "a796f320",
   "metadata": {},
   "outputs": [],
   "source": [
    "sns.pairplot(data[['years','km','rating','condition','economy','top speed','hp','torque','current price']])"
   ]
  },
  {
   "cell_type": "code",
   "execution_count": null,
   "id": "fe56848c",
   "metadata": {},
   "outputs": [],
   "source": [
    "tensor_data=tf.constant(data)\n",
    "tensor_data=tf.cast(tensor_data,tf.float32)\n",
    "tensor_data=tf.random.shuffle(tensor_data)\n",
    "print(tensor_data)"
   ]
  },
  {
   "cell_type": "code",
   "execution_count": null,
   "id": "18357df1",
   "metadata": {},
   "outputs": [],
   "source": [
    "tensor_data.shape"
   ]
  },
  {
   "cell_type": "code",
   "execution_count": null,
   "id": "2d34b4f5",
   "metadata": {},
   "outputs": [],
   "source": [
    "X=tensor_data[:,3:-1]\n",
    "y=tensor_data[:,-1]\n",
    "y=tf.expand_dims(y,axis=-1)"
   ]
  },
  {
   "cell_type": "code",
   "execution_count": null,
   "id": "a000f97c",
   "metadata": {},
   "outputs": [],
   "source": [
    "X[0][-1]"
   ]
  },
  {
   "cell_type": "code",
   "execution_count": null,
   "id": "af9be7b5",
   "metadata": {},
   "outputs": [],
   "source": [
    "y[0]"
   ]
  },
  {
   "cell_type": "code",
   "execution_count": null,
   "id": "407fb760",
   "metadata": {},
   "outputs": [],
   "source": [
    "X.shape"
   ]
  },
  {
   "cell_type": "code",
   "execution_count": null,
   "id": "4dc8e722",
   "metadata": {},
   "outputs": [],
   "source": [
    "y.shape"
   ]
  },
  {
   "cell_type": "code",
   "execution_count": null,
   "id": "3f573bbb",
   "metadata": {},
   "outputs": [],
   "source": [
    "TRAIN_RETIO=0.8\n",
    "VAL_RETIO=0.1\n",
    "TEST_RETIO=0.1\n",
    "DATASET_SIZE=len(X)\n",
    "DATASET_SIZE"
   ]
  },
  {
   "cell_type": "code",
   "execution_count": null,
   "id": "6a8875d7",
   "metadata": {},
   "outputs": [],
   "source": [
    "X_train=X[:int(TRAIN_RETIO*DATASET_SIZE)]\n",
    "y_train=y[:int(TRAIN_RETIO*DATASET_SIZE)]\n",
    "X_val=X[int(TRAIN_RETIO*DATASET_SIZE):int((TRAIN_RETIO+VAL_RETIO)*DATASET_SIZE)]\n",
    "y_val=y[int(TRAIN_RETIO*DATASET_SIZE):int((TRAIN_RETIO+VAL_RETIO)*DATASET_SIZE)]\n",
    "X_test=X[int((TRAIN_RETIO+VAL_RETIO)*DATASET_SIZE):]\n",
    "y_test=y[int((TRAIN_RETIO+VAL_RETIO)*DATASET_SIZE):]\n",
    "print(X_train.shape,y_train.shape)\n",
    "print(X_val.shape,y_val.shape)\n",
    "print(X_test.shape,y_test.shape)"
   ]
  },
  {
   "cell_type": "code",
   "execution_count": null,
   "id": "c49f7243",
   "metadata": {},
   "outputs": [],
   "source": [
    "train_dataset=tf.data.Dataset.from_tensor_slices((X_train,y_train))\n",
    "train_dataset=train_dataset.shuffle(buffer_size=8,reshuffle_each_iteration=True).batch(32).prefetch(tf.data.AUTOTUNE)\n",
    "val_dataset=tf.data.Dataset.from_tensor_slices((X_val,y_val))\n",
    "val_dataset=val_dataset.shuffle(buffer_size=8,reshuffle_each_iteration=True).batch(32).prefetch(tf.data.AUTOTUNE)"
   ]
  },
  {
   "cell_type": "code",
   "execution_count": null,
   "id": "dffb7693",
   "metadata": {},
   "outputs": [],
   "source": [
    "len(train_dataset),len(val_dataset)"
   ]
  },
  {
   "cell_type": "code",
   "execution_count": null,
   "id": "4db8856f",
   "metadata": {},
   "outputs": [],
   "source": [
    "normalize=Normalization()\n",
    "normalize.adapt(X_train)\n",
    "normalize(X)[1]"
   ]
  },
  {
   "cell_type": "code",
   "execution_count": null,
   "id": "58e4710e",
   "metadata": {},
   "outputs": [],
   "source": [
    "model=tf.keras.Sequential([\n",
    "    InputLayer(input_shape=(8,)),\n",
    "    normalize,\n",
    "    Dense(128,activation='relu'),\n",
    "    Dense(128,activation='relu'),\n",
    "    Dense(128,activation='relu'),\n",
    "    Dense(1)])\n",
    "tf.keras.utils.plot_model(model,to_file='model.png',show_shapes=True)"
   ]
  },
  {
   "cell_type": "code",
   "execution_count": null,
   "id": "52c794c3",
   "metadata": {},
   "outputs": [],
   "source": [
    "model.compile(optimizer=Adam(learning_rate=0.1),loss=MeanAbsoluteError(),metrics=RootMeanSquaredError())\n"
   ]
  },
  {
   "cell_type": "code",
   "execution_count": null,
   "id": "652ad601",
   "metadata": {},
   "outputs": [],
   "source": [
    "model.summary()"
   ]
  },
  {
   "cell_type": "code",
   "execution_count": null,
   "id": "64abf290",
   "metadata": {},
   "outputs": [],
   "source": [
    "history=model.fit(train_dataset,validation_data=val_dataset,epochs=100,verbose=1)"
   ]
  },
  {
   "cell_type": "code",
   "execution_count": null,
   "id": "a70bc162",
   "metadata": {},
   "outputs": [],
   "source": [
    "plt.plot(history.history['loss'])\n",
    "plt.plot(history.history['val_loss'])\n",
    "plt.title('model loss')\n",
    "plt.ylabel('loss')\n",
    "plt.xlabel('epoch')\n",
    "plt.legend(['train', 'val_loss'])\n",
    "plt.show()"
   ]
  },
  {
   "cell_type": "code",
   "execution_count": null,
   "id": "8153abef",
   "metadata": {},
   "outputs": [],
   "source": [
    "plt.plot(history.history['root_mean_squared_error'])\n",
    "plt.plot(history.history['val_root_mean_squared_error'])\n",
    "plt.title('model performance')\n",
    "plt.ylabel('rmse')\n",
    "plt.xlabel('epoch')\n",
    "plt.legend(['train', 'val'])\n",
    "plt.show()"
   ]
  },
  {
   "cell_type": "code",
   "execution_count": null,
   "id": "7db7e189",
   "metadata": {},
   "outputs": [],
   "source": [
    "model.evaluate(X_test,y_test)"
   ]
  },
  {
   "cell_type": "code",
   "execution_count": null,
   "id": "fbf3a7ac",
   "metadata": {},
   "outputs": [],
   "source": [
    "model.predict(tf.expand_dims(X_test[0], axis = 0 ))"
   ]
  },
  {
   "cell_type": "code",
   "execution_count": null,
   "id": "ae9f9d27",
   "metadata": {},
   "outputs": [],
   "source": [
    "y_test[0]"
   ]
  },
  {
   "cell_type": "code",
   "execution_count": null,
   "id": "78d03ca3",
   "metadata": {},
   "outputs": [],
   "source": [
    "y_true = list(y_test[:,0].numpy())"
   ]
  },
  {
   "cell_type": "code",
   "execution_count": null,
   "id": "b76f6009",
   "metadata": {},
   "outputs": [],
   "source": [
    "y_pred = list(model.predict(X_test)[:,0])\n",
    "print(y_pred)"
   ]
  },
  {
   "cell_type": "code",
   "execution_count": null,
   "id": "82bf5f67",
   "metadata": {
    "tags": []
   },
   "outputs": [],
   "source": [
    "ind = np.arange(100)\n",
    "plt.figure(figsize=(40,20))\n",
    "\n",
    "width = 0.1\n",
    "\n",
    "plt.bar(ind, y_pred, width, label='Predicted Car Price')\n",
    "plt.bar(ind + width, y_true, width, label='Actual Car Price')\n",
    "\n",
    "plt.xlabel('Actual vs Predicted Prices')\n",
    "plt.ylabel('Car Price Prices')\n",
    "\n",
    "plt.show()"
   ]
  },
  {
   "cell_type": "code",
   "execution_count": null,
   "id": "d27b5730",
   "metadata": {},
   "outputs": [],
   "source": []
  }
 ],
 "metadata": {
  "kernelspec": {
   "display_name": "Python 3 (ipykernel)",
   "language": "python",
   "name": "python3"
  },
  "language_info": {
   "codemirror_mode": {
    "name": "ipython",
    "version": 3
   },
   "file_extension": ".py",
   "mimetype": "text/x-python",
   "name": "python",
   "nbconvert_exporter": "python",
   "pygments_lexer": "ipython3",
   "version": "3.9.13"
  }
 },
 "nbformat": 4,
 "nbformat_minor": 5
}
